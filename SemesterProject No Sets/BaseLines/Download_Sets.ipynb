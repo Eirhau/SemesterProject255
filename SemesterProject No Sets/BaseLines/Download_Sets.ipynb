{
 "cells": [
  {
   "cell_type": "code",
   "execution_count": 1,
   "id": "1e9525aa",
   "metadata": {},
   "outputs": [
    {
     "name": "stderr",
     "output_type": "stream",
     "text": [
      "c:\\Users\\Eirik\\anaconda3\\envs\\raskmonai\\lib\\site-packages\\requests\\__init__.py:109: RequestsDependencyWarning: urllib3 (1.26.14) or chardet (None)/charset_normalizer (3.1.0) doesn't match a supported version!\n",
      "  warnings.warn(\n"
     ]
    }
   ],
   "source": [
    "from fastMONAI.vision_all import *\n",
    "\n",
    "from monai.apps import DecathlonDataset\n",
    "\n",
    "import pandas as pd"
   ]
  },
  {
   "cell_type": "code",
   "execution_count": 2,
   "id": "841cf29e",
   "metadata": {},
   "outputs": [],
   "source": [
    "path = Path('..\\data')\n",
    "path.mkdir(exist_ok=True)"
   ]
  },
  {
   "cell_type": "code",
   "execution_count": 6,
   "id": "a818e094",
   "metadata": {},
   "outputs": [
    {
     "name": "stderr",
     "output_type": "stream",
     "text": [
      "Task01_BrainTumour.tar: 7.09GB [13:29, 9.39MB/s]                                                                       "
     ]
    },
    {
     "name": "stdout",
     "output_type": "stream",
     "text": [
      "2023-04-12 12:57:44,941 - INFO - Downloaded: ..\\data\\Task01_BrainTumour.tar\n"
     ]
    },
    {
     "name": "stderr",
     "output_type": "stream",
     "text": [
      "\n"
     ]
    },
    {
     "name": "stdout",
     "output_type": "stream",
     "text": [
      "2023-04-12 12:58:03,618 - INFO - Verified 'Task01_BrainTumour.tar', md5: 240a19d752f0d9e9101544901065d872.\n",
      "2023-04-12 12:58:03,621 - INFO - Writing into directory: ..\\data.\n"
     ]
    },
    {
     "data": {
      "text/plain": [
       "<monai.apps.datasets.DecathlonDataset at 0x1526dd9a5e0>"
      ]
     },
     "execution_count": 6,
     "metadata": {},
     "output_type": "execute_result"
    }
   ],
   "source": [
    "DecathlonDataset(root_dir=path, task=\"Task01_BrainTumour\", section=\"training\", download=True,\n",
    "                                 cache_num=0, num_workers=3)"
   ]
  },
  {
   "cell_type": "code",
   "execution_count": 7,
   "id": "d7945eb6",
   "metadata": {},
   "outputs": [
    {
     "name": "stderr",
     "output_type": "stream",
     "text": [
      "Task02_Heart.tar: 435MB [00:50, 8.96MB/s]                                                                              "
     ]
    },
    {
     "name": "stdout",
     "output_type": "stream",
     "text": [
      "2023-04-12 13:03:14,708 - INFO - Downloaded: ..\\data\\Task02_Heart.tar\n"
     ]
    },
    {
     "name": "stderr",
     "output_type": "stream",
     "text": [
      "\n"
     ]
    },
    {
     "name": "stdout",
     "output_type": "stream",
     "text": [
      "2023-04-12 13:03:15,897 - INFO - Verified 'Task02_Heart.tar', md5: 06ee59366e1e5124267b774dbd654057.\n",
      "2023-04-12 13:03:15,899 - INFO - Writing into directory: ..\\data.\n"
     ]
    },
    {
     "data": {
      "text/plain": [
       "<monai.apps.datasets.DecathlonDataset at 0x1526dd9a8b0>"
      ]
     },
     "execution_count": 7,
     "metadata": {},
     "output_type": "execute_result"
    }
   ],
   "source": [
    "DecathlonDataset(root_dir=path, task=\"Task02_Heart\", section=\"training\", download=True,\n",
    "                                 cache_num=0, num_workers=3)"
   ]
  },
  {
   "cell_type": "code",
   "execution_count": 3,
   "id": "17386737",
   "metadata": {},
   "outputs": [
    {
     "name": "stderr",
     "output_type": "stream",
     "text": [
      "Task03_Liver.tar: 26.9GB [53:50, 8.96MB/s]                                                                             "
     ]
    },
    {
     "name": "stdout",
     "output_type": "stream",
     "text": [
      "2023-04-12 15:04:55,756 - INFO - Downloaded: ..\\data\\Task03_Liver.tar\n"
     ]
    },
    {
     "name": "stderr",
     "output_type": "stream",
     "text": [
      "\n"
     ]
    },
    {
     "name": "stdout",
     "output_type": "stream",
     "text": [
      "2023-04-12 15:06:17,860 - INFO - Verified 'Task03_Liver.tar', md5: a90ec6c4aa7f6a3d087205e23d4e6397.\n",
      "2023-04-12 15:06:17,861 - INFO - Writing into directory: ..\\data.\n"
     ]
    },
    {
     "data": {
      "text/plain": [
       "<monai.apps.datasets.DecathlonDataset at 0x1d4f8f1b070>"
      ]
     },
     "execution_count": 3,
     "metadata": {},
     "output_type": "execute_result"
    }
   ],
   "source": [
    "DecathlonDataset(root_dir=path, task=\"Task03_Liver\", section=\"training\", download=True,\n",
    "                                 cache_num=0, num_workers=3)"
   ]
  },
  {
   "cell_type": "code",
   "execution_count": 3,
   "id": "046dc33e",
   "metadata": {},
   "outputs": [
    {
     "name": "stderr",
     "output_type": "stream",
     "text": [
      "Task04_Hippocampus.tar: 27.1MB [00:05, 5.63MB/s]                              "
     ]
    },
    {
     "name": "stdout",
     "output_type": "stream",
     "text": [
      "2023-04-13 14:01:36,160 - INFO - Downloaded: ..\\data\\Task04_Hippocampus.tar\n",
      "2023-04-13 14:01:36,208 - INFO - Verified 'Task04_Hippocampus.tar', md5: 9d24dba78a72977dbd1d2e110310f31b.\n"
     ]
    },
    {
     "name": "stderr",
     "output_type": "stream",
     "text": [
      "\n"
     ]
    },
    {
     "name": "stdout",
     "output_type": "stream",
     "text": [
      "2023-04-13 14:01:36,210 - INFO - Writing into directory: ..\\data.\n"
     ]
    },
    {
     "data": {
      "text/plain": [
       "<monai.apps.datasets.DecathlonDataset at 0x22212635190>"
      ]
     },
     "execution_count": 3,
     "metadata": {},
     "output_type": "execute_result"
    }
   ],
   "source": [
    "DecathlonDataset(root_dir=path, task=\"Task04_Hippocampus\", section=\"training\", download=True,\n",
    "                                 cache_num=0, num_workers=3)"
   ]
  },
  {
   "cell_type": "code",
   "execution_count": 4,
   "id": "ca8a1adb",
   "metadata": {},
   "outputs": [
    {
     "name": "stderr",
     "output_type": "stream",
     "text": [
      "Task05_Prostate.tar: 229MB [00:35, 6.68MB/s]                              "
     ]
    },
    {
     "name": "stdout",
     "output_type": "stream",
     "text": [
      "2023-04-13 14:03:41,917 - INFO - Downloaded: ..\\data\\Task05_Prostate.tar\n"
     ]
    },
    {
     "name": "stderr",
     "output_type": "stream",
     "text": [
      "\n"
     ]
    },
    {
     "name": "stdout",
     "output_type": "stream",
     "text": [
      "2023-04-13 14:03:42,301 - INFO - Verified 'Task05_Prostate.tar', md5: 35138f08b1efaef89d7424d2bcc928db.\n",
      "2023-04-13 14:03:42,302 - INFO - Writing into directory: ..\\data.\n"
     ]
    },
    {
     "data": {
      "text/plain": [
       "<monai.apps.datasets.DecathlonDataset at 0x2221268b1f0>"
      ]
     },
     "execution_count": 4,
     "metadata": {},
     "output_type": "execute_result"
    }
   ],
   "source": [
    "DecathlonDataset(root_dir=path, task=\"Task05_Prostate\", section=\"training\", download=True,\n",
    "                                 cache_num=0, num_workers=3)"
   ]
  },
  {
   "cell_type": "code",
   "execution_count": 5,
   "id": "5803c635",
   "metadata": {},
   "outputs": [
    {
     "name": "stderr",
     "output_type": "stream",
     "text": [
      "Task06_Lung.tar: 8.53GB [14:04, 10.8MB/s]                                "
     ]
    },
    {
     "name": "stdout",
     "output_type": "stream",
     "text": [
      "2023-04-13 14:18:23,677 - INFO - Downloaded: ..\\data\\Task06_Lung.tar\n"
     ]
    },
    {
     "name": "stderr",
     "output_type": "stream",
     "text": [
      "\n"
     ]
    },
    {
     "name": "stdout",
     "output_type": "stream",
     "text": [
      "2023-04-13 14:18:47,345 - INFO - Verified 'Task06_Lung.tar', md5: 8afd997733c7fc0432f71255ba4e52dc.\n",
      "2023-04-13 14:18:47,346 - INFO - Writing into directory: ..\\data.\n"
     ]
    },
    {
     "data": {
      "text/plain": [
       "<monai.apps.datasets.DecathlonDataset at 0x2221268b370>"
      ]
     },
     "execution_count": 5,
     "metadata": {},
     "output_type": "execute_result"
    }
   ],
   "source": [
    "DecathlonDataset(root_dir=path, task=\"Task06_Lung\", section=\"training\", download=True,\n",
    "                                 cache_num=0, num_workers=3)"
   ]
  },
  {
   "cell_type": "code",
   "execution_count": null,
   "id": "3d4628ae",
   "metadata": {},
   "outputs": [],
   "source": [
    "DecathlonDataset(root_dir=path, task=\"Task07_Pancreas\", section=\"training\", download=True,\n",
    "                                 cache_num=0, num_workers=3)"
   ]
  },
  {
   "cell_type": "code",
   "execution_count": 4,
   "id": "a60c30b8",
   "metadata": {},
   "outputs": [
    {
     "name": "stderr",
     "output_type": "stream",
     "text": [
      "Task08_HepaticVessel.tar: 8.71GB [16:55, 9.21MB/s]                                "
     ]
    },
    {
     "name": "stdout",
     "output_type": "stream",
     "text": [
      "2023-04-19 10:49:52,443 - INFO - Downloaded: ..\\data\\Task08_HepaticVessel.tar\n"
     ]
    },
    {
     "name": "stderr",
     "output_type": "stream",
     "text": [
      "\n"
     ]
    },
    {
     "name": "stdout",
     "output_type": "stream",
     "text": [
      "2023-04-19 10:50:24,160 - INFO - Verified 'Task08_HepaticVessel.tar', md5: 641d79e80ec66453921d997fbf12a29c.\n",
      "2023-04-19 10:50:24,162 - INFO - Writing into directory: ..\\data.\n"
     ]
    },
    {
     "data": {
      "text/plain": [
       "<monai.apps.datasets.DecathlonDataset at 0x1eb1056fac0>"
      ]
     },
     "execution_count": 4,
     "metadata": {},
     "output_type": "execute_result"
    }
   ],
   "source": [
    "DecathlonDataset(root_dir=path, task=\"Task08_HepaticVessel\", section=\"training\", download=True,\n",
    "                                 cache_num=0, num_workers=3)"
   ]
  },
  {
   "cell_type": "code",
   "execution_count": 7,
   "id": "8af0b344",
   "metadata": {},
   "outputs": [
    {
     "name": "stderr",
     "output_type": "stream",
     "text": [
      "Task09_Spleen.tar: 1.50GB [03:27, 7.77MB/s]                               "
     ]
    },
    {
     "name": "stdout",
     "output_type": "stream",
     "text": [
      "2023-04-19 10:56:31,668 - INFO - Downloaded: ..\\data\\Task09_Spleen.tar\n"
     ]
    },
    {
     "name": "stderr",
     "output_type": "stream",
     "text": [
      "\n"
     ]
    },
    {
     "name": "stdout",
     "output_type": "stream",
     "text": [
      "2023-04-19 10:56:34,110 - INFO - Verified 'Task09_Spleen.tar', md5: 410d4a301da4e5b2f6f86ec3ddba524e.\n",
      "2023-04-19 10:56:34,111 - INFO - Writing into directory: ..\\data.\n"
     ]
    },
    {
     "data": {
      "text/plain": [
       "<monai.apps.datasets.DecathlonDataset at 0x1eb1056fc70>"
      ]
     },
     "execution_count": 7,
     "metadata": {},
     "output_type": "execute_result"
    }
   ],
   "source": [
    "DecathlonDataset(root_dir=path, task=\"Task09_Spleen\", section=\"training\", download=True,\n",
    "                                 cache_num=0, num_workers=3)"
   ]
  },
  {
   "cell_type": "code",
   "execution_count": 9,
   "id": "678cfa3c",
   "metadata": {},
   "outputs": [
    {
     "name": "stderr",
     "output_type": "stream",
     "text": [
      "Task10_Colon.tar: 5.81GB [11:28, 9.07MB/s]                                "
     ]
    },
    {
     "name": "stdout",
     "output_type": "stream",
     "text": [
      "2023-04-19 11:20:01,035 - INFO - Downloaded: ..\\data\\Task10_Colon.tar\n"
     ]
    },
    {
     "name": "stderr",
     "output_type": "stream",
     "text": [
      "\n"
     ]
    },
    {
     "name": "stdout",
     "output_type": "stream",
     "text": [
      "2023-04-19 11:20:17,018 - INFO - Verified 'Task10_Colon.tar', md5: bad7a188931dc2f6acf72b08eb6202d0.\n",
      "2023-04-19 11:20:17,020 - INFO - Writing into directory: ..\\data.\n"
     ]
    },
    {
     "data": {
      "text/plain": [
       "<monai.apps.datasets.DecathlonDataset at 0x1eb4b045190>"
      ]
     },
     "execution_count": 9,
     "metadata": {},
     "output_type": "execute_result"
    }
   ],
   "source": [
    "DecathlonDataset(root_dir=path, task=\"Task10_Colon\", section=\"training\", download=True,\n",
    "                                 cache_num=0, num_workers=3)"
   ]
  }
 ],
 "metadata": {
  "kernelspec": {
   "display_name": "raskmonai",
   "language": "python",
   "name": "python3"
  },
  "language_info": {
   "codemirror_mode": {
    "name": "ipython",
    "version": 3
   },
   "file_extension": ".py",
   "mimetype": "text/x-python",
   "name": "python",
   "nbconvert_exporter": "python",
   "pygments_lexer": "ipython3",
   "version": "3.9.16"
  }
 },
 "nbformat": 4,
 "nbformat_minor": 5
}
