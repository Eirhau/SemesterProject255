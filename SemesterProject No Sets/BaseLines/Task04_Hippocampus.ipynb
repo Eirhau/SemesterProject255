{
 "cells": [
  {
   "cell_type": "markdown",
   "id": "0b919af2",
   "metadata": {},
   "source": [
    "Necessary imports"
   ]
  },
  {
   "cell_type": "code",
   "execution_count": 1,
   "id": "2829da55",
   "metadata": {},
   "outputs": [
    {
     "name": "stderr",
     "output_type": "stream",
     "text": [
      "C:\\Users\\Eirik\\anaconda3\\envs\\raskmonai\\lib\\site-packages\\requests\\__init__.py:109: RequestsDependencyWarning: urllib3 (1.26.14) or chardet (None)/charset_normalizer (3.1.0) doesn't match a supported version!\n",
      "  warnings.warn(\n"
     ]
    }
   ],
   "source": [
    "from fastMONAI.vision_all import *\n",
    "\n",
    "from monai.apps import DecathlonDataset\n",
    "from sklearn.model_selection import train_test_split\n",
    "import pandas as pd"
   ]
  },
  {
   "cell_type": "markdown",
   "id": "e3777bd4",
   "metadata": {},
   "source": [
    "Setting path (and create data directory) and loading data using fastMonai compatabilty with the Medical Decathlon Segmentation datasets."
   ]
  },
  {
   "cell_type": "code",
   "execution_count": 2,
   "id": "a312e824",
   "metadata": {},
   "outputs": [],
   "source": [
    "path = Path('..\\data')\n",
    "path.mkdir(exist_ok=True)"
   ]
  },
  {
   "cell_type": "code",
   "execution_count": 3,
   "id": "6c83b13a",
   "metadata": {},
   "outputs": [],
   "source": [
    "HippocampusSet = DecathlonDataset(root_dir=path, task=\"Task04_Hippocampus\", section=\"training\", download=False,\n",
    "                                 cache_num=0, num_workers=3)"
   ]
  },
  {
   "cell_type": "markdown",
   "id": "a3a234f7",
   "metadata": {},
   "source": [
    "Making dataframe from dataset"
   ]
  },
  {
   "cell_type": "code",
   "execution_count": 4,
   "id": "8c4c2d75",
   "metadata": {},
   "outputs": [],
   "source": [
    "df = pd.DataFrame(HippocampusSet.data)\n"
   ]
  },
  {
   "cell_type": "markdown",
   "id": "b30ea43a",
   "metadata": {},
   "source": [
    "Check structure of df. Df contains path to images and labels in seperate columns."
   ]
  },
  {
   "cell_type": "code",
   "execution_count": 5,
   "id": "2b176eea",
   "metadata": {
    "scrolled": true
   },
   "outputs": [
    {
     "data": {
      "text/html": [
       "<div>\n",
       "<style scoped>\n",
       "    .dataframe tbody tr th:only-of-type {\n",
       "        vertical-align: middle;\n",
       "    }\n",
       "\n",
       "    .dataframe tbody tr th {\n",
       "        vertical-align: top;\n",
       "    }\n",
       "\n",
       "    .dataframe thead th {\n",
       "        text-align: right;\n",
       "    }\n",
       "</style>\n",
       "<table border=\"1\" class=\"dataframe\">\n",
       "  <thead>\n",
       "    <tr style=\"text-align: right;\">\n",
       "      <th></th>\n",
       "      <th>image</th>\n",
       "      <th>label</th>\n",
       "    </tr>\n",
       "  </thead>\n",
       "  <tbody>\n",
       "    <tr>\n",
       "      <th>0</th>\n",
       "      <td>..\\data\\Task04_Hippocampus\\imagesTr\\hippocampus_172.nii.gz</td>\n",
       "      <td>..\\data\\Task04_Hippocampus\\labelsTr\\hippocampus_172.nii.gz</td>\n",
       "    </tr>\n",
       "    <tr>\n",
       "      <th>1</th>\n",
       "      <td>..\\data\\Task04_Hippocampus\\imagesTr\\hippocampus_223.nii.gz</td>\n",
       "      <td>..\\data\\Task04_Hippocampus\\labelsTr\\hippocampus_223.nii.gz</td>\n",
       "    </tr>\n",
       "    <tr>\n",
       "      <th>2</th>\n",
       "      <td>..\\data\\Task04_Hippocampus\\imagesTr\\hippocampus_001.nii.gz</td>\n",
       "      <td>..\\data\\Task04_Hippocampus\\labelsTr\\hippocampus_001.nii.gz</td>\n",
       "    </tr>\n",
       "    <tr>\n",
       "      <th>3</th>\n",
       "      <td>..\\data\\Task04_Hippocampus\\imagesTr\\hippocampus_004.nii.gz</td>\n",
       "      <td>..\\data\\Task04_Hippocampus\\labelsTr\\hippocampus_004.nii.gz</td>\n",
       "    </tr>\n",
       "    <tr>\n",
       "      <th>4</th>\n",
       "      <td>..\\data\\Task04_Hippocampus\\imagesTr\\hippocampus_268.nii.gz</td>\n",
       "      <td>..\\data\\Task04_Hippocampus\\labelsTr\\hippocampus_268.nii.gz</td>\n",
       "    </tr>\n",
       "  </tbody>\n",
       "</table>\n",
       "</div>"
      ],
      "text/plain": [
       "                                                        image  \\\n",
       "0  ..\\data\\Task04_Hippocampus\\imagesTr\\hippocampus_172.nii.gz   \n",
       "1  ..\\data\\Task04_Hippocampus\\imagesTr\\hippocampus_223.nii.gz   \n",
       "2  ..\\data\\Task04_Hippocampus\\imagesTr\\hippocampus_001.nii.gz   \n",
       "3  ..\\data\\Task04_Hippocampus\\imagesTr\\hippocampus_004.nii.gz   \n",
       "4  ..\\data\\Task04_Hippocampus\\imagesTr\\hippocampus_268.nii.gz   \n",
       "\n",
       "                                                        label  \n",
       "0  ..\\data\\Task04_Hippocampus\\labelsTr\\hippocampus_172.nii.gz  \n",
       "1  ..\\data\\Task04_Hippocampus\\labelsTr\\hippocampus_223.nii.gz  \n",
       "2  ..\\data\\Task04_Hippocampus\\labelsTr\\hippocampus_001.nii.gz  \n",
       "3  ..\\data\\Task04_Hippocampus\\labelsTr\\hippocampus_004.nii.gz  \n",
       "4  ..\\data\\Task04_Hippocampus\\labelsTr\\hippocampus_268.nii.gz  "
      ]
     },
     "execution_count": 5,
     "metadata": {},
     "output_type": "execute_result"
    }
   ],
   "source": [
    "df.head()"
   ]
  },
  {
   "cell_type": "code",
   "execution_count": 6,
   "id": "722a6717",
   "metadata": {},
   "outputs": [
    {
     "name": "stdout",
     "output_type": "stream",
     "text": [
      "<class 'pandas.core.frame.DataFrame'>\n",
      "RangeIndex: 208 entries, 0 to 207\n",
      "Data columns (total 2 columns):\n",
      " #   Column  Non-Null Count  Dtype \n",
      "---  ------  --------------  ----- \n",
      " 0   image   208 non-null    object\n",
      " 1   label   208 non-null    object\n",
      "dtypes: object(2)\n",
      "memory usage: 3.4+ KB\n"
     ]
    }
   ],
   "source": [
    "df.info()"
   ]
  },
  {
   "cell_type": "markdown",
   "id": "2dc53b2e",
   "metadata": {},
   "source": [
    "Making a MedDataSet instance for the set. Useful to check size of images and voxel spacing."
   ]
  },
  {
   "cell_type": "code",
   "execution_count": 7,
   "id": "afd43fdd",
   "metadata": {},
   "outputs": [],
   "source": [
    "med_dataset = MedDataset(img_list=df.label.tolist()[:20], dtype=MedMask, max_workers=12)"
   ]
  },
  {
   "cell_type": "code",
   "execution_count": 8,
   "id": "60c6243b",
   "metadata": {},
   "outputs": [
    {
     "data": {
      "text/html": [
       "<div>\n",
       "<style scoped>\n",
       "    .dataframe tbody tr th:only-of-type {\n",
       "        vertical-align: middle;\n",
       "    }\n",
       "\n",
       "    .dataframe tbody tr th {\n",
       "        vertical-align: top;\n",
       "    }\n",
       "\n",
       "    .dataframe thead th {\n",
       "        text-align: right;\n",
       "    }\n",
       "</style>\n",
       "<table border=\"1\" class=\"dataframe\">\n",
       "  <thead>\n",
       "    <tr style=\"text-align: right;\">\n",
       "      <th></th>\n",
       "      <th>path</th>\n",
       "      <th>dim_0</th>\n",
       "      <th>dim_1</th>\n",
       "      <th>dim_2</th>\n",
       "      <th>voxel_0</th>\n",
       "      <th>voxel_1</th>\n",
       "      <th>voxel_2</th>\n",
       "      <th>orientation</th>\n",
       "      <th>voxel_count_0</th>\n",
       "      <th>voxel_count_1</th>\n",
       "      <th>voxel_count_2</th>\n",
       "    </tr>\n",
       "  </thead>\n",
       "  <tbody>\n",
       "    <tr>\n",
       "      <th>0</th>\n",
       "      <td>..\\data\\Task04_Hippocampus\\labelsTr\\hippocampus_172.nii.gz</td>\n",
       "      <td>34</td>\n",
       "      <td>56</td>\n",
       "      <td>31</td>\n",
       "      <td>1.0</td>\n",
       "      <td>1.0</td>\n",
       "      <td>1.0</td>\n",
       "      <td>RAS+</td>\n",
       "      <td>55101</td>\n",
       "      <td>1981</td>\n",
       "      <td>1942</td>\n",
       "    </tr>\n",
       "    <tr>\n",
       "      <th>1</th>\n",
       "      <td>..\\data\\Task04_Hippocampus\\labelsTr\\hippocampus_223.nii.gz</td>\n",
       "      <td>35</td>\n",
       "      <td>52</td>\n",
       "      <td>37</td>\n",
       "      <td>1.0</td>\n",
       "      <td>1.0</td>\n",
       "      <td>1.0</td>\n",
       "      <td>RAS+</td>\n",
       "      <td>63838</td>\n",
       "      <td>1577</td>\n",
       "      <td>1925</td>\n",
       "    </tr>\n",
       "    <tr>\n",
       "      <th>2</th>\n",
       "      <td>..\\data\\Task04_Hippocampus\\labelsTr\\hippocampus_001.nii.gz</td>\n",
       "      <td>35</td>\n",
       "      <td>51</td>\n",
       "      <td>35</td>\n",
       "      <td>1.0</td>\n",
       "      <td>1.0</td>\n",
       "      <td>1.0</td>\n",
       "      <td>RAS+</td>\n",
       "      <td>59527</td>\n",
       "      <td>1324</td>\n",
       "      <td>1624</td>\n",
       "    </tr>\n",
       "    <tr>\n",
       "      <th>3</th>\n",
       "      <td>..\\data\\Task04_Hippocampus\\labelsTr\\hippocampus_004.nii.gz</td>\n",
       "      <td>36</td>\n",
       "      <td>52</td>\n",
       "      <td>38</td>\n",
       "      <td>1.0</td>\n",
       "      <td>1.0</td>\n",
       "      <td>1.0</td>\n",
       "      <td>RAS+</td>\n",
       "      <td>67438</td>\n",
       "      <td>1832</td>\n",
       "      <td>1866</td>\n",
       "    </tr>\n",
       "    <tr>\n",
       "      <th>4</th>\n",
       "      <td>..\\data\\Task04_Hippocampus\\labelsTr\\hippocampus_268.nii.gz</td>\n",
       "      <td>34</td>\n",
       "      <td>51</td>\n",
       "      <td>37</td>\n",
       "      <td>1.0</td>\n",
       "      <td>1.0</td>\n",
       "      <td>1.0</td>\n",
       "      <td>RAS+</td>\n",
       "      <td>61104</td>\n",
       "      <td>1437</td>\n",
       "      <td>1617</td>\n",
       "    </tr>\n",
       "  </tbody>\n",
       "</table>\n",
       "</div>"
      ],
      "text/plain": [
       "                                                         path  dim_0  dim_1  \\\n",
       "0  ..\\data\\Task04_Hippocampus\\labelsTr\\hippocampus_172.nii.gz     34     56   \n",
       "1  ..\\data\\Task04_Hippocampus\\labelsTr\\hippocampus_223.nii.gz     35     52   \n",
       "2  ..\\data\\Task04_Hippocampus\\labelsTr\\hippocampus_001.nii.gz     35     51   \n",
       "3  ..\\data\\Task04_Hippocampus\\labelsTr\\hippocampus_004.nii.gz     36     52   \n",
       "4  ..\\data\\Task04_Hippocampus\\labelsTr\\hippocampus_268.nii.gz     34     51   \n",
       "\n",
       "   dim_2  voxel_0  voxel_1  voxel_2 orientation  voxel_count_0  voxel_count_1  \\\n",
       "0     31      1.0      1.0      1.0        RAS+          55101           1981   \n",
       "1     37      1.0      1.0      1.0        RAS+          63838           1577   \n",
       "2     35      1.0      1.0      1.0        RAS+          59527           1324   \n",
       "3     38      1.0      1.0      1.0        RAS+          67438           1832   \n",
       "4     37      1.0      1.0      1.0        RAS+          61104           1437   \n",
       "\n",
       "   voxel_count_2  \n",
       "0           1942  \n",
       "1           1925  \n",
       "2           1624  \n",
       "3           1866  \n",
       "4           1617  "
      ]
     },
     "execution_count": 8,
     "metadata": {},
     "output_type": "execute_result"
    }
   ],
   "source": [
    "med_dataset.df.head()"
   ]
  },
  {
   "cell_type": "code",
   "execution_count": 9,
   "id": "f08c78a4",
   "metadata": {},
   "outputs": [],
   "source": [
    "summary_df = med_dataset.summary()"
   ]
  },
  {
   "cell_type": "code",
   "execution_count": 10,
   "id": "f829bd7f",
   "metadata": {},
   "outputs": [
    {
     "data": {
      "text/html": [
       "<div>\n",
       "<style scoped>\n",
       "    .dataframe tbody tr th:only-of-type {\n",
       "        vertical-align: middle;\n",
       "    }\n",
       "\n",
       "    .dataframe tbody tr th {\n",
       "        vertical-align: top;\n",
       "    }\n",
       "\n",
       "    .dataframe thead th {\n",
       "        text-align: right;\n",
       "    }\n",
       "</style>\n",
       "<table border=\"1\" class=\"dataframe\">\n",
       "  <thead>\n",
       "    <tr style=\"text-align: right;\">\n",
       "      <th></th>\n",
       "      <th>dim_0</th>\n",
       "      <th>dim_1</th>\n",
       "      <th>dim_2</th>\n",
       "      <th>voxel_0</th>\n",
       "      <th>voxel_1</th>\n",
       "      <th>voxel_2</th>\n",
       "      <th>orientation</th>\n",
       "      <th>example_path</th>\n",
       "      <th>total</th>\n",
       "    </tr>\n",
       "  </thead>\n",
       "  <tbody>\n",
       "    <tr>\n",
       "      <th>0</th>\n",
       "      <td>33</td>\n",
       "      <td>49</td>\n",
       "      <td>40</td>\n",
       "      <td>1.0</td>\n",
       "      <td>1.0</td>\n",
       "      <td>1.0</td>\n",
       "      <td>RAS+</td>\n",
       "      <td>..\\data\\Task04_Hippocampus\\labelsTr\\hippocampus_181.nii.gz</td>\n",
       "      <td>1</td>\n",
       "    </tr>\n",
       "    <tr>\n",
       "      <th>1</th>\n",
       "      <td>33</td>\n",
       "      <td>52</td>\n",
       "      <td>27</td>\n",
       "      <td>1.0</td>\n",
       "      <td>1.0</td>\n",
       "      <td>1.0</td>\n",
       "      <td>RAS+</td>\n",
       "      <td>..\\data\\Task04_Hippocampus\\labelsTr\\hippocampus_099.nii.gz</td>\n",
       "      <td>1</td>\n",
       "    </tr>\n",
       "    <tr>\n",
       "      <th>18</th>\n",
       "      <td>38</td>\n",
       "      <td>54</td>\n",
       "      <td>30</td>\n",
       "      <td>1.0</td>\n",
       "      <td>1.0</td>\n",
       "      <td>1.0</td>\n",
       "      <td>RAS+</td>\n",
       "      <td>..\\data\\Task04_Hippocampus\\labelsTr\\hippocampus_328.nii.gz</td>\n",
       "      <td>1</td>\n",
       "    </tr>\n",
       "    <tr>\n",
       "      <th>17</th>\n",
       "      <td>38</td>\n",
       "      <td>51</td>\n",
       "      <td>37</td>\n",
       "      <td>1.0</td>\n",
       "      <td>1.0</td>\n",
       "      <td>1.0</td>\n",
       "      <td>RAS+</td>\n",
       "      <td>..\\data\\Task04_Hippocampus\\labelsTr\\hippocampus_264.nii.gz</td>\n",
       "      <td>1</td>\n",
       "    </tr>\n",
       "    <tr>\n",
       "      <th>16</th>\n",
       "      <td>38</td>\n",
       "      <td>51</td>\n",
       "      <td>31</td>\n",
       "      <td>1.0</td>\n",
       "      <td>1.0</td>\n",
       "      <td>1.0</td>\n",
       "      <td>RAS+</td>\n",
       "      <td>..\\data\\Task04_Hippocampus\\labelsTr\\hippocampus_197.nii.gz</td>\n",
       "      <td>1</td>\n",
       "    </tr>\n",
       "    <tr>\n",
       "      <th>15</th>\n",
       "      <td>37</td>\n",
       "      <td>56</td>\n",
       "      <td>36</td>\n",
       "      <td>1.0</td>\n",
       "      <td>1.0</td>\n",
       "      <td>1.0</td>\n",
       "      <td>RAS+</td>\n",
       "      <td>..\\data\\Task04_Hippocampus\\labelsTr\\hippocampus_238.nii.gz</td>\n",
       "      <td>1</td>\n",
       "    </tr>\n",
       "    <tr>\n",
       "      <th>14</th>\n",
       "      <td>37</td>\n",
       "      <td>54</td>\n",
       "      <td>36</td>\n",
       "      <td>1.0</td>\n",
       "      <td>1.0</td>\n",
       "      <td>1.0</td>\n",
       "      <td>RAS+</td>\n",
       "      <td>..\\data\\Task04_Hippocampus\\labelsTr\\hippocampus_188.nii.gz</td>\n",
       "      <td>1</td>\n",
       "    </tr>\n",
       "    <tr>\n",
       "      <th>13</th>\n",
       "      <td>37</td>\n",
       "      <td>48</td>\n",
       "      <td>36</td>\n",
       "      <td>1.0</td>\n",
       "      <td>1.0</td>\n",
       "      <td>1.0</td>\n",
       "      <td>RAS+</td>\n",
       "      <td>..\\data\\Task04_Hippocampus\\labelsTr\\hippocampus_228.nii.gz</td>\n",
       "      <td>1</td>\n",
       "    </tr>\n",
       "    <tr>\n",
       "      <th>12</th>\n",
       "      <td>36</td>\n",
       "      <td>52</td>\n",
       "      <td>38</td>\n",
       "      <td>1.0</td>\n",
       "      <td>1.0</td>\n",
       "      <td>1.0</td>\n",
       "      <td>RAS+</td>\n",
       "      <td>..\\data\\Task04_Hippocampus\\labelsTr\\hippocampus_004.nii.gz</td>\n",
       "      <td>1</td>\n",
       "    </tr>\n",
       "    <tr>\n",
       "      <th>11</th>\n",
       "      <td>36</td>\n",
       "      <td>40</td>\n",
       "      <td>43</td>\n",
       "      <td>1.0</td>\n",
       "      <td>1.0</td>\n",
       "      <td>1.0</td>\n",
       "      <td>RAS+</td>\n",
       "      <td>..\\data\\Task04_Hippocampus\\labelsTr\\hippocampus_068.nii.gz</td>\n",
       "      <td>1</td>\n",
       "    </tr>\n",
       "    <tr>\n",
       "      <th>10</th>\n",
       "      <td>35</td>\n",
       "      <td>52</td>\n",
       "      <td>37</td>\n",
       "      <td>1.0</td>\n",
       "      <td>1.0</td>\n",
       "      <td>1.0</td>\n",
       "      <td>RAS+</td>\n",
       "      <td>..\\data\\Task04_Hippocampus\\labelsTr\\hippocampus_223.nii.gz</td>\n",
       "      <td>1</td>\n",
       "    </tr>\n",
       "    <tr>\n",
       "      <th>9</th>\n",
       "      <td>35</td>\n",
       "      <td>52</td>\n",
       "      <td>34</td>\n",
       "      <td>1.0</td>\n",
       "      <td>1.0</td>\n",
       "      <td>1.0</td>\n",
       "      <td>RAS+</td>\n",
       "      <td>..\\data\\Task04_Hippocampus\\labelsTr\\hippocampus_006.nii.gz</td>\n",
       "      <td>1</td>\n",
       "    </tr>\n",
       "    <tr>\n",
       "      <th>8</th>\n",
       "      <td>35</td>\n",
       "      <td>51</td>\n",
       "      <td>35</td>\n",
       "      <td>1.0</td>\n",
       "      <td>1.0</td>\n",
       "      <td>1.0</td>\n",
       "      <td>RAS+</td>\n",
       "      <td>..\\data\\Task04_Hippocampus\\labelsTr\\hippocampus_001.nii.gz</td>\n",
       "      <td>1</td>\n",
       "    </tr>\n",
       "    <tr>\n",
       "      <th>7</th>\n",
       "      <td>35</td>\n",
       "      <td>50</td>\n",
       "      <td>33</td>\n",
       "      <td>1.0</td>\n",
       "      <td>1.0</td>\n",
       "      <td>1.0</td>\n",
       "      <td>RAS+</td>\n",
       "      <td>..\\data\\Task04_Hippocampus\\labelsTr\\hippocampus_276.nii.gz</td>\n",
       "      <td>1</td>\n",
       "    </tr>\n",
       "    <tr>\n",
       "      <th>6</th>\n",
       "      <td>35</td>\n",
       "      <td>49</td>\n",
       "      <td>33</td>\n",
       "      <td>1.0</td>\n",
       "      <td>1.0</td>\n",
       "      <td>1.0</td>\n",
       "      <td>RAS+</td>\n",
       "      <td>..\\data\\Task04_Hippocampus\\labelsTr\\hippocampus_185.nii.gz</td>\n",
       "      <td>1</td>\n",
       "    </tr>\n",
       "    <tr>\n",
       "      <th>5</th>\n",
       "      <td>35</td>\n",
       "      <td>48</td>\n",
       "      <td>40</td>\n",
       "      <td>1.0</td>\n",
       "      <td>1.0</td>\n",
       "      <td>1.0</td>\n",
       "      <td>RAS+</td>\n",
       "      <td>..\\data\\Task04_Hippocampus\\labelsTr\\hippocampus_385.nii.gz</td>\n",
       "      <td>1</td>\n",
       "    </tr>\n",
       "    <tr>\n",
       "      <th>4</th>\n",
       "      <td>35</td>\n",
       "      <td>48</td>\n",
       "      <td>38</td>\n",
       "      <td>1.0</td>\n",
       "      <td>1.0</td>\n",
       "      <td>1.0</td>\n",
       "      <td>RAS+</td>\n",
       "      <td>..\\data\\Task04_Hippocampus\\labelsTr\\hippocampus_303.nii.gz</td>\n",
       "      <td>1</td>\n",
       "    </tr>\n",
       "    <tr>\n",
       "      <th>3</th>\n",
       "      <td>34</td>\n",
       "      <td>56</td>\n",
       "      <td>31</td>\n",
       "      <td>1.0</td>\n",
       "      <td>1.0</td>\n",
       "      <td>1.0</td>\n",
       "      <td>RAS+</td>\n",
       "      <td>..\\data\\Task04_Hippocampus\\labelsTr\\hippocampus_172.nii.gz</td>\n",
       "      <td>1</td>\n",
       "    </tr>\n",
       "    <tr>\n",
       "      <th>2</th>\n",
       "      <td>34</td>\n",
       "      <td>51</td>\n",
       "      <td>37</td>\n",
       "      <td>1.0</td>\n",
       "      <td>1.0</td>\n",
       "      <td>1.0</td>\n",
       "      <td>RAS+</td>\n",
       "      <td>..\\data\\Task04_Hippocampus\\labelsTr\\hippocampus_268.nii.gz</td>\n",
       "      <td>1</td>\n",
       "    </tr>\n",
       "    <tr>\n",
       "      <th>19</th>\n",
       "      <td>40</td>\n",
       "      <td>52</td>\n",
       "      <td>35</td>\n",
       "      <td>1.0</td>\n",
       "      <td>1.0</td>\n",
       "      <td>1.0</td>\n",
       "      <td>RAS+</td>\n",
       "      <td>..\\data\\Task04_Hippocampus\\labelsTr\\hippocampus_088.nii.gz</td>\n",
       "      <td>1</td>\n",
       "    </tr>\n",
       "  </tbody>\n",
       "</table>\n",
       "</div>"
      ],
      "text/plain": [
       "    dim_0  dim_1  dim_2  voxel_0  voxel_1  voxel_2 orientation  \\\n",
       "0      33     49     40      1.0      1.0      1.0        RAS+   \n",
       "1      33     52     27      1.0      1.0      1.0        RAS+   \n",
       "18     38     54     30      1.0      1.0      1.0        RAS+   \n",
       "17     38     51     37      1.0      1.0      1.0        RAS+   \n",
       "16     38     51     31      1.0      1.0      1.0        RAS+   \n",
       "15     37     56     36      1.0      1.0      1.0        RAS+   \n",
       "14     37     54     36      1.0      1.0      1.0        RAS+   \n",
       "13     37     48     36      1.0      1.0      1.0        RAS+   \n",
       "12     36     52     38      1.0      1.0      1.0        RAS+   \n",
       "11     36     40     43      1.0      1.0      1.0        RAS+   \n",
       "10     35     52     37      1.0      1.0      1.0        RAS+   \n",
       "9      35     52     34      1.0      1.0      1.0        RAS+   \n",
       "8      35     51     35      1.0      1.0      1.0        RAS+   \n",
       "7      35     50     33      1.0      1.0      1.0        RAS+   \n",
       "6      35     49     33      1.0      1.0      1.0        RAS+   \n",
       "5      35     48     40      1.0      1.0      1.0        RAS+   \n",
       "4      35     48     38      1.0      1.0      1.0        RAS+   \n",
       "3      34     56     31      1.0      1.0      1.0        RAS+   \n",
       "2      34     51     37      1.0      1.0      1.0        RAS+   \n",
       "19     40     52     35      1.0      1.0      1.0        RAS+   \n",
       "\n",
       "                                                  example_path  total  \n",
       "0   ..\\data\\Task04_Hippocampus\\labelsTr\\hippocampus_181.nii.gz      1  \n",
       "1   ..\\data\\Task04_Hippocampus\\labelsTr\\hippocampus_099.nii.gz      1  \n",
       "18  ..\\data\\Task04_Hippocampus\\labelsTr\\hippocampus_328.nii.gz      1  \n",
       "17  ..\\data\\Task04_Hippocampus\\labelsTr\\hippocampus_264.nii.gz      1  \n",
       "16  ..\\data\\Task04_Hippocampus\\labelsTr\\hippocampus_197.nii.gz      1  \n",
       "15  ..\\data\\Task04_Hippocampus\\labelsTr\\hippocampus_238.nii.gz      1  \n",
       "14  ..\\data\\Task04_Hippocampus\\labelsTr\\hippocampus_188.nii.gz      1  \n",
       "13  ..\\data\\Task04_Hippocampus\\labelsTr\\hippocampus_228.nii.gz      1  \n",
       "12  ..\\data\\Task04_Hippocampus\\labelsTr\\hippocampus_004.nii.gz      1  \n",
       "11  ..\\data\\Task04_Hippocampus\\labelsTr\\hippocampus_068.nii.gz      1  \n",
       "10  ..\\data\\Task04_Hippocampus\\labelsTr\\hippocampus_223.nii.gz      1  \n",
       "9   ..\\data\\Task04_Hippocampus\\labelsTr\\hippocampus_006.nii.gz      1  \n",
       "8   ..\\data\\Task04_Hippocampus\\labelsTr\\hippocampus_001.nii.gz      1  \n",
       "7   ..\\data\\Task04_Hippocampus\\labelsTr\\hippocampus_276.nii.gz      1  \n",
       "6   ..\\data\\Task04_Hippocampus\\labelsTr\\hippocampus_185.nii.gz      1  \n",
       "5   ..\\data\\Task04_Hippocampus\\labelsTr\\hippocampus_385.nii.gz      1  \n",
       "4   ..\\data\\Task04_Hippocampus\\labelsTr\\hippocampus_303.nii.gz      1  \n",
       "3   ..\\data\\Task04_Hippocampus\\labelsTr\\hippocampus_172.nii.gz      1  \n",
       "2   ..\\data\\Task04_Hippocampus\\labelsTr\\hippocampus_268.nii.gz      1  \n",
       "19  ..\\data\\Task04_Hippocampus\\labelsTr\\hippocampus_088.nii.gz      1  "
      ]
     },
     "execution_count": 10,
     "metadata": {},
     "output_type": "execute_result"
    }
   ],
   "source": [
    "summary_df"
   ]
  },
  {
   "cell_type": "markdown",
   "id": "23b257a9",
   "metadata": {},
   "source": [
    "Used the fastMonai suggestion for resampling the data with the most common voxel value in each dimension if the the data needs to be reoriented."
   ]
  },
  {
   "cell_type": "code",
   "execution_count": 11,
   "id": "ed1aa10e",
   "metadata": {},
   "outputs": [
    {
     "data": {
      "text/plain": [
       "([1.0, 1.0, 1.0], False)"
      ]
     },
     "execution_count": 11,
     "metadata": {},
     "output_type": "execute_result"
    }
   ],
   "source": [
    "resample, reorder = med_dataset.suggestion()\n",
    "resample, reorder"
   ]
  },
  {
   "cell_type": "code",
   "execution_count": 12,
   "id": "b649f1fa",
   "metadata": {},
   "outputs": [
    {
     "data": {
      "text/plain": [
       "[40.0, 56.0, 43.0]"
      ]
     },
     "execution_count": 12,
     "metadata": {},
     "output_type": "execute_result"
    }
   ],
   "source": [
    "img_size = med_dataset.get_largest_img_size(resample=resample)\n",
    "img_size"
   ]
  },
  {
   "cell_type": "markdown",
   "id": "4bec8a09",
   "metadata": {},
   "source": [
    "Quite regular transformations except on thing. The \"PadOrCrop\" size is not based solely for the purpose of training on this dataset. This model will later be used on the \"Task2_Heart\" data, its therefore beneficial to have the same size afterwards. This means the images are padded to a size which doesn't exclude the masks/labels in the heart set. Originally i wanted to \"squish\" the image, but could not figure it out. This is unfortunate, as the padding is quite large. Defintely one of the first changes to be made."
   ]
  },
  {
   "cell_type": "code",
   "execution_count": 13,
   "id": "88fb23ab",
   "metadata": {},
   "outputs": [],
   "source": [
    "item_tfms = [ZNormalization(), PadOrCrop([160, 160, 128]), RandomAffine(scales=0, degrees=5, isotropic=True)] "
   ]
  },
  {
   "cell_type": "markdown",
   "id": "e0b46d23",
   "metadata": {},
   "source": [
    "Creating the datablock"
   ]
  },
  {
   "cell_type": "code",
   "execution_count": 14,
   "id": "3aeff4b8",
   "metadata": {},
   "outputs": [],
   "source": [
    "dblock = MedDataBlock(blocks=(ImageBlock(cls=MedImage), MedMaskBlock), \n",
    "                      splitter=RandomSplitter(seed=42),\n",
    "                      get_x=ColReader('image'),\n",
    "                      get_y=ColReader('label'),\n",
    "                      item_tfms=item_tfms,\n",
    "                      batch_tfms=None,\n",
    "                      reorder=reorder,\n",
    "                      resample=resample)"
   ]
  },
  {
   "cell_type": "code",
   "execution_count": 15,
   "id": "879b5dd5",
   "metadata": {},
   "outputs": [],
   "source": [
    "bs=2\n",
    "dls = dblock.dataloaders(df, bs=bs)"
   ]
  },
  {
   "cell_type": "markdown",
   "id": "fc1bfc6a",
   "metadata": {},
   "source": [
    "Show batch (size=2)"
   ]
  },
  {
   "cell_type": "code",
   "execution_count": 16,
   "id": "dbcdc990",
   "metadata": {},
   "outputs": [
    {
     "data": {
      "image/png": "[encoded data removed]",
      "text/plain": [
       "<Figure size 600x600 with 4 Axes>"
      ]
     },
     "metadata": {},
     "output_type": "display_data"
    }
   ],
   "source": [
    "dls.show_batch(anatomical_plane=0, unique=True)"
   ]
  },
  {
   "cell_type": "markdown",
   "id": "2c730534",
   "metadata": {},
   "source": [
    "Dataloader automatically sets aside validation set."
   ]
  },
  {
   "cell_type": "code",
   "execution_count": 17,
   "id": "b0b10668",
   "metadata": {},
   "outputs": [
    {
     "data": {
      "text/plain": [
       "(167, 41)"
      ]
     },
     "execution_count": 17,
     "metadata": {},
     "output_type": "execute_result"
    }
   ],
   "source": [
    "len(dls.train_ds.items), len(dls.valid_ds.items)"
   ]
  },
  {
   "cell_type": "markdown",
   "id": "a6bf5464",
   "metadata": {},
   "source": [
    "Dice loss: We utilize it to evaluate the similarity between our predictions and the ground truth in segmentation tasks. Lower values indicate that the prediction mask is closer to the truth. Lower values -> higher performance."
   ]
  },
  {
   "cell_type": "code",
   "execution_count": 18,
   "id": "fadd90cf",
   "metadata": {},
   "outputs": [],
   "source": [
    "from monai.networks.nets import UNet\n",
    "from monai.losses import DiceCELoss"
   ]
  },
  {
   "cell_type": "code",
   "execution_count": 19,
   "id": "4db9ce9e",
   "metadata": {},
   "outputs": [],
   "source": [
    "codes = np.unique(med_img_reader(df.label.tolist()[0]))\n",
    "n_classes = len(codes)"
   ]
  },
  {
   "cell_type": "markdown",
   "id": "4ebb48a1",
   "metadata": {},
   "source": [
    "There are there labels/classes, represented by 0, 1 and 2"
   ]
  },
  {
   "cell_type": "code",
   "execution_count": 20,
   "id": "1c0ed184",
   "metadata": {},
   "outputs": [
    {
     "data": {
      "text/plain": [
       "(array([0., 1., 2.], dtype=float32), 3)"
      ]
     },
     "execution_count": 20,
     "metadata": {},
     "output_type": "execute_result"
    }
   ],
   "source": [
    "codes, n_classes"
   ]
  },
  {
   "cell_type": "code",
   "execution_count": 21,
   "id": "5b445563",
   "metadata": {},
   "outputs": [
    {
     "name": "stderr",
     "output_type": "stream",
     "text": [
      "C:\\Users\\Eirik\\anaconda3\\envs\\raskmonai\\lib\\site-packages\\monai\\utils\\deprecate_utils.py:219: FutureWarning: monai.networks.nets.unet UNet.__init__:dimensions: Argument `dimensions` has been deprecated since version 0.6. Please use `spatial_dims` instead.\n",
      "  warn_deprecated(argname, msg, warning_category)\n"
     ]
    }
   ],
   "source": [
    "model = UNet(dimensions=3, in_channels=1, out_channels=n_classes, \n",
    "             channels=(16, 32, 64, 128, 256),strides=(2, 2, 2, 2), \n",
    "             num_res_units=2)"
   ]
  },
  {
   "cell_type": "markdown",
   "id": "60b53905",
   "metadata": {},
   "source": [
    "Creating the loss function which our model will use to update weights during training. The function considers both Dice loss  and cross-entropy loss (difference between predicted and actual class distributions). Lower values indicate better performance, with predictions more closely resembling the ground truth, while higher values signify poorer performance and larger discrepancies between predictions and ground truth. This is good way to do it especially when the background size varies."
   ]
  },
  {
   "cell_type": "code",
   "execution_count": 22,
   "id": "2390286f",
   "metadata": {},
   "outputs": [],
   "source": [
    "loss_func = CustomLoss(loss_func=DiceCELoss(to_onehot_y=True, include_background=True, softmax=True))"
   ]
  },
  {
   "cell_type": "markdown",
   "id": "8edc680d",
   "metadata": {},
   "source": [
    "Creating the learner"
   ]
  },
  {
   "cell_type": "code",
   "execution_count": 23,
   "id": "b89c2484",
   "metadata": {},
   "outputs": [],
   "source": [
    "learn = Learner(dls, model, loss_func=loss_func, opt_func=ranger, metrics=multi_dice_score)"
   ]
  },
  {
   "cell_type": "markdown",
   "id": "c141a050",
   "metadata": {},
   "source": [
    "The learning rate finder included in the fastai library visualizes the relationship between learning rate and loss for a learner, aiming to minimize the guesswork involved in selecting an optimal initial learning rate. "
   ]
  },
  {
   "cell_type": "code",
   "execution_count": 24,
   "id": "4957fdf0",
   "metadata": {},
   "outputs": [
    {
     "data": {
      "text/html": [
       "\n",
       "<style>\n",
       "    /* Turns off some styling */\n",
       "    progress {\n",
       "        /* gets rid of default border in Firefox and Opera. */\n",
       "        border: none;\n",
       "        /* Needs to be in here for Safari polyfill so background images work as expected. */\n",
       "        background-size: auto;\n",
       "    }\n",
       "    progress:not([value]), progress:not([value])::-webkit-progress-bar {\n",
       "        background: repeating-linear-gradient(45deg, #7e7e7e, #7e7e7e 10px, #5c5c5c 10px, #5c5c5c 20px);\n",
       "    }\n",
       "    .progress-bar-interrupted, .progress-bar-interrupted::-webkit-progress-bar {\n",
       "        background: #F44336;\n",
       "    }\n",
       "</style>\n"
      ],
      "text/plain": [
       "<IPython.core.display.HTML object>"
      ]
     },
     "metadata": {},
     "output_type": "display_data"
    },
    {
     "data": {
      "text/html": [],
      "text/plain": [
       "<IPython.core.display.HTML object>"
      ]
     },
     "metadata": {},
     "output_type": "display_data"
    },
    {
     "data": {
      "image/png": "[encoded data removed]",
      "text/plain": [
       "<Figure size 640x480 with 1 Axes>"
      ]
     },
     "metadata": {},
     "output_type": "display_data"
    }
   ],
   "source": [
    "lr = learn.lr_find()"
   ]
  },
  {
   "cell_type": "markdown",
   "id": "b309acac",
   "metadata": {},
   "source": [
    "Setting up baseline models with 5 epochs. Any model named \"baseline_xxx_model.pkl\" has been trained for 4 or 5 epochs."
   ]
  },
  {
   "cell_type": "code",
   "execution_count": 25,
   "id": "f78f8347",
   "metadata": {},
   "outputs": [],
   "source": [
    "epochs = 5"
   ]
  },
  {
   "cell_type": "markdown",
   "id": "4515fbff",
   "metadata": {},
   "source": [
    "Trains the model with 5 epochs and the learning rate found above."
   ]
  },
  {
   "cell_type": "code",
   "execution_count": 26,
   "id": "895e8769",
   "metadata": {},
   "outputs": [
    {
     "data": {
      "text/html": [
       "\n",
       "<style>\n",
       "    /* Turns off some styling */\n",
       "    progress {\n",
       "        /* gets rid of default border in Firefox and Opera. */\n",
       "        border: none;\n",
       "        /* Needs to be in here for Safari polyfill so background images work as expected. */\n",
       "        background-size: auto;\n",
       "    }\n",
       "    progress:not([value]), progress:not([value])::-webkit-progress-bar {\n",
       "        background: repeating-linear-gradient(45deg, #7e7e7e, #7e7e7e 10px, #5c5c5c 10px, #5c5c5c 20px);\n",
       "    }\n",
       "    .progress-bar-interrupted, .progress-bar-interrupted::-webkit-progress-bar {\n",
       "        background: #F44336;\n",
       "    }\n",
       "</style>\n"
      ],
      "text/plain": [
       "<IPython.core.display.HTML object>"
      ]
     },
     "metadata": {},
     "output_type": "display_data"
    },
    {
     "data": {
      "text/html": [
       "<table border=\"1\" class=\"dataframe\">\n",
       "  <thead>\n",
       "    <tr style=\"text-align: left;\">\n",
       "      <th>epoch</th>\n",
       "      <th>train_loss</th>\n",
       "      <th>valid_loss</th>\n",
       "      <th>multi_dice_score</th>\n",
       "      <th>time</th>\n",
       "    </tr>\n",
       "  </thead>\n",
       "  <tbody>\n",
       "    <tr>\n",
       "      <td>0</td>\n",
       "      <td>1.237940</td>\n",
       "      <td>0.821715</td>\n",
       "      <td>tensor([0.0193, 0.0095])</td>\n",
       "      <td>00:41</td>\n",
       "    </tr>\n",
       "    <tr>\n",
       "      <td>1</td>\n",
       "      <td>0.755419</td>\n",
       "      <td>0.587881</td>\n",
       "      <td>tensor([0.3196, 0.5016])</td>\n",
       "      <td>00:32</td>\n",
       "    </tr>\n",
       "    <tr>\n",
       "      <td>2</td>\n",
       "      <td>0.400640</td>\n",
       "      <td>0.199029</td>\n",
       "      <td>tensor([0.7737, 0.7739])</td>\n",
       "      <td>00:32</td>\n",
       "    </tr>\n",
       "    <tr>\n",
       "      <td>3</td>\n",
       "      <td>0.195622</td>\n",
       "      <td>0.127723</td>\n",
       "      <td>tensor([0.8320, 0.8268])</td>\n",
       "      <td>00:32</td>\n",
       "    </tr>\n",
       "    <tr>\n",
       "      <td>4</td>\n",
       "      <td>0.133045</td>\n",
       "      <td>0.115408</td>\n",
       "      <td>tensor([0.8448, 0.8406])</td>\n",
       "      <td>00:33</td>\n",
       "    </tr>\n",
       "  </tbody>\n",
       "</table>"
      ],
      "text/plain": [
       "<IPython.core.display.HTML object>"
      ]
     },
     "metadata": {},
     "output_type": "display_data"
    }
   ],
   "source": [
    "learn.fit_flat_cos(epochs, lr)"
   ]
  },
  {
   "cell_type": "markdown",
   "id": "51a86cb8",
   "metadata": {},
   "source": [
    "Save model and look at some of the results."
   ]
  },
  {
   "cell_type": "code",
   "execution_count": 27,
   "id": "ff320b6c",
   "metadata": {},
   "outputs": [
    {
     "data": {
      "text/plain": [
       "Path('models/baseline.Hippocampus-model.pth')"
      ]
     },
     "execution_count": 27,
     "metadata": {},
     "output_type": "execute_result"
    }
   ],
   "source": [
    "learn.save('baseline.Hippocampus-model')"
   ]
  },
  {
   "cell_type": "code",
   "execution_count": 28,
   "id": "a6b96021",
   "metadata": {},
   "outputs": [
    {
     "data": {
      "text/html": [
       "\n",
       "<style>\n",
       "    /* Turns off some styling */\n",
       "    progress {\n",
       "        /* gets rid of default border in Firefox and Opera. */\n",
       "        border: none;\n",
       "        /* Needs to be in here for Safari polyfill so background images work as expected. */\n",
       "        background-size: auto;\n",
       "    }\n",
       "    progress:not([value]), progress:not([value])::-webkit-progress-bar {\n",
       "        background: repeating-linear-gradient(45deg, #7e7e7e, #7e7e7e 10px, #5c5c5c 10px, #5c5c5c 20px);\n",
       "    }\n",
       "    .progress-bar-interrupted, .progress-bar-interrupted::-webkit-progress-bar {\n",
       "        background: #F44336;\n",
       "    }\n",
       "</style>\n"
      ],
      "text/plain": [
       "<IPython.core.display.HTML object>"
      ]
     },
     "metadata": {},
     "output_type": "display_data"
    },
    {
     "data": {
      "text/html": [],
      "text/plain": [
       "<IPython.core.display.HTML object>"
      ]
     },
     "metadata": {},
     "output_type": "display_data"
    },
    {
     "data": {
      "image/png": "[encoded data removed]",
      "text/plain": [
       "<Figure size 600x600 with 4 Axes>"
      ]
     },
     "metadata": {},
     "output_type": "display_data"
    }
   ],
   "source": [
    "learn.show_results(anatomical_plane=0, ds_idx=1)"
   ]
  },
  {
   "cell_type": "code",
   "execution_count": 29,
   "id": "b7052329",
   "metadata": {},
   "outputs": [],
   "source": [
    "test_dl = learn.dls.test_dl(df,with_labels=True)"
   ]
  },
  {
   "cell_type": "code",
   "execution_count": 30,
   "id": "552caa46",
   "metadata": {
    "scrolled": true
   },
   "outputs": [
    {
     "data": {
      "image/png": "[encoded data removed]",
      "text/plain": [
       "<Figure size 1500x1500 with 4 Axes>"
      ]
     },
     "metadata": {},
     "output_type": "display_data"
    }
   ],
   "source": [
    "test_dl.show_batch(anatomical_plane=0, figsize=(15,15))"
   ]
  },
  {
   "cell_type": "code",
   "execution_count": 31,
   "id": "7d5d72fb",
   "metadata": {},
   "outputs": [
    {
     "data": {
      "text/html": [
       "\n",
       "<style>\n",
       "    /* Turns off some styling */\n",
       "    progress {\n",
       "        /* gets rid of default border in Firefox and Opera. */\n",
       "        border: none;\n",
       "        /* Needs to be in here for Safari polyfill so background images work as expected. */\n",
       "        background-size: auto;\n",
       "    }\n",
       "    progress:not([value]), progress:not([value])::-webkit-progress-bar {\n",
       "        background: repeating-linear-gradient(45deg, #7e7e7e, #7e7e7e 10px, #5c5c5c 10px, #5c5c5c 20px);\n",
       "    }\n",
       "    .progress-bar-interrupted, .progress-bar-interrupted::-webkit-progress-bar {\n",
       "        background: #F44336;\n",
       "    }\n",
       "</style>\n"
      ],
      "text/plain": [
       "<IPython.core.display.HTML object>"
      ]
     },
     "metadata": {},
     "output_type": "display_data"
    },
    {
     "data": {
      "text/html": [],
      "text/plain": [
       "<IPython.core.display.HTML object>"
      ]
     },
     "metadata": {},
     "output_type": "display_data"
    },
    {
     "data": {
      "text/plain": [
       "(torch.Size([208, 3, 160, 160, 128]), torch.Size([208, 1, 160, 160, 128]))"
      ]
     },
     "execution_count": 31,
     "metadata": {},
     "output_type": "execute_result"
    }
   ],
   "source": [
    "pred_acts, labels = learn.get_preds(dl=test_dl)\n",
    "pred_acts.shape, labels.shape"
   ]
  },
  {
   "cell_type": "code",
   "execution_count": 32,
   "id": "d33fb170",
   "metadata": {},
   "outputs": [
    {
     "ename": "RuntimeError",
     "evalue": "[enforce fail at C:\\cb\\pytorch_1000000000000\\work\\c10\\core\\impl\\alloc_cpu.cpp:72] data. DefaultCPUAllocator: not enough memory: you tried to allocate 5452595200 bytes.",
     "output_type": "error",
     "traceback": [
      "\u001b[1;31m---------------------------------------------------------------------------\u001b[0m",
      "\u001b[1;31mRuntimeError\u001b[0m                              Traceback (most recent call last)",
      "Cell \u001b[1;32mIn[32], line 1\u001b[0m\n\u001b[1;32m----> 1\u001b[0m \u001b[43mmulti_dice_score\u001b[49m\u001b[43m(\u001b[49m\u001b[43mpred_acts\u001b[49m\u001b[43m,\u001b[49m\u001b[43m \u001b[49m\u001b[43mlabels\u001b[49m\u001b[43m)\u001b[49m\n",
      "File \u001b[1;32m~\\anaconda3\\envs\\raskmonai\\lib\\site-packages\\fastMONAI\\vision_metrics.py:47\u001b[0m, in \u001b[0;36mmulti_dice_score\u001b[1;34m(act, targ)\u001b[0m\n\u001b[0;32m     44\u001b[0m binary_dice_scores \u001b[38;5;241m=\u001b[39m []\n\u001b[0;32m     46\u001b[0m \u001b[38;5;28;01mfor\u001b[39;00m c \u001b[38;5;129;01min\u001b[39;00m \u001b[38;5;28mrange\u001b[39m(\u001b[38;5;241m1\u001b[39m, n_classes):\n\u001b[1;32m---> 47\u001b[0m     c_pred, c_targ \u001b[38;5;241m=\u001b[39m \u001b[43mtorch\u001b[49m\u001b[38;5;241;43m.\u001b[39;49m\u001b[43mwhere\u001b[49m\u001b[43m(\u001b[49m\u001b[43mpred\u001b[49m\u001b[38;5;241;43m==\u001b[39;49m\u001b[43mc\u001b[49m\u001b[43m,\u001b[49m\u001b[43m \u001b[49m\u001b[38;5;241;43m1\u001b[39;49m\u001b[43m,\u001b[49m\u001b[43m \u001b[49m\u001b[38;5;241;43m0\u001b[39;49m\u001b[43m)\u001b[49m, torch\u001b[38;5;241m.\u001b[39mwhere(targ\u001b[38;5;241m==\u001b[39mc, \u001b[38;5;241m1\u001b[39m, \u001b[38;5;241m0\u001b[39m)\n\u001b[0;32m     48\u001b[0m     dsc \u001b[38;5;241m=\u001b[39m calculate_dsc(c_pred, c_targ)\n\u001b[0;32m     49\u001b[0m     binary_dice_scores\u001b[38;5;241m.\u001b[39mappend(np\u001b[38;5;241m.\u001b[39mnanmean(dsc)) \u001b[38;5;66;03m#TODO update torch to get torch.nanmean() to work\u001b[39;00m\n",
      "\u001b[1;31mRuntimeError\u001b[0m: [enforce fail at C:\\cb\\pytorch_1000000000000\\work\\c10\\core\\impl\\alloc_cpu.cpp:72] data. DefaultCPUAllocator: not enough memory: you tried to allocate 5452595200 bytes."
     ]
    }
   ],
   "source": [
    "multi_dice_score(pred_acts, labels)"
   ]
  },
  {
   "cell_type": "markdown",
   "id": "455e7c01",
   "metadata": {},
   "source": [
    "Shows another result. From the data put aside by the dataloader."
   ]
  },
  {
   "cell_type": "code",
   "execution_count": null,
   "id": "f3ffc637",
   "metadata": {},
   "outputs": [],
   "source": [
    "learn.show_results(anatomical_plane=0, dl=test_dl, ds_idx=19)"
   ]
  },
  {
   "cell_type": "markdown",
   "id": "8ea6840b",
   "metadata": {},
   "source": [
    "Pickles the model for later use."
   ]
  },
  {
   "cell_type": "code",
   "execution_count": null,
   "id": "6c75169e",
   "metadata": {},
   "outputs": [],
   "source": [
    "learn.export('baseline_Hippocampus_model.pkl')"
   ]
  },
  {
   "cell_type": "code",
   "execution_count": null,
   "id": "a8fdafca",
   "metadata": {},
   "outputs": [],
   "source": []
  }
 ],
 "metadata": {
  "kernelspec": {
   "display_name": "raskmonai",
   "language": "python",
   "name": "python3"
  },
  "language_info": {
   "codemirror_mode": {
    "name": "ipython",
    "version": 3
   },
   "file_extension": ".py",
   "mimetype": "text/x-python",
   "name": "python",
   "nbconvert_exporter": "python",
   "pygments_lexer": "ipython3",
   "version": "3.9.16"
  }
 },
 "nbformat": 4,
 "nbformat_minor": 5
}
